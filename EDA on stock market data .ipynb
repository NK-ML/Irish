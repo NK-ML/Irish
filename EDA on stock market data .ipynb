{
  "nbformat": 4,
  "nbformat_minor": 0,
  "metadata": {
    "colab": {
      "name": "Untitled4.ipynb",
      "provenance": [],
      "authorship_tag": "ABX9TyP8YeZydCxWnbpWHuiaep82",
      "include_colab_link": true
    },
    "kernelspec": {
      "name": "python3",
      "display_name": "Python 3"
    },
    "language_info": {
      "name": "python"
    }
  },
  "cells": [
    {
      "cell_type": "markdown",
      "metadata": {
        "id": "view-in-github",
        "colab_type": "text"
      },
      "source": [
        "<a href=\"https://colab.research.google.com/github/NK-ML/Irish/blob/main/EDA%20on%20stock%20market%20data%20.ipynb\" target=\"_parent\"><img src=\"https://colab.research.google.com/assets/colab-badge.svg\" alt=\"Open In Colab\"/></a>"
      ]
    },
    {
      "cell_type": "code",
      "metadata": {
        "id": "8YBG_vXABuCP"
      },
      "source": [
        "import pandas as pd \n",
        "import numpy as np\n",
        "from scipy.stats import norm"
      ],
      "execution_count": 1,
      "outputs": []
    },
    {
      "cell_type": "code",
      "metadata": {
        "colab": {
          "base_uri": "https://localhost:8080/",
          "height": 206
        },
        "id": "mx05SJjiBzDb",
        "outputId": "9669a677-71da-4bd3-efc5-9700d36626da"
      },
      "source": [
        "df = pd.read_csv('/content/HistoricalData_1632805545670.csv')\n",
        "df.head()"
      ],
      "execution_count": 2,
      "outputs": [
        {
          "output_type": "execute_result",
          "data": {
            "text/html": [
              "<div>\n",
              "<style scoped>\n",
              "    .dataframe tbody tr th:only-of-type {\n",
              "        vertical-align: middle;\n",
              "    }\n",
              "\n",
              "    .dataframe tbody tr th {\n",
              "        vertical-align: top;\n",
              "    }\n",
              "\n",
              "    .dataframe thead th {\n",
              "        text-align: right;\n",
              "    }\n",
              "</style>\n",
              "<table border=\"1\" class=\"dataframe\">\n",
              "  <thead>\n",
              "    <tr style=\"text-align: right;\">\n",
              "      <th></th>\n",
              "      <th>Date</th>\n",
              "      <th>Close/Last</th>\n",
              "      <th>Volume</th>\n",
              "      <th>Open</th>\n",
              "      <th>High</th>\n",
              "      <th>Low</th>\n",
              "    </tr>\n",
              "  </thead>\n",
              "  <tbody>\n",
              "    <tr>\n",
              "      <th>0</th>\n",
              "      <td>09/27/2021</td>\n",
              "      <td>$791.36</td>\n",
              "      <td>28070660</td>\n",
              "      <td>$773.12</td>\n",
              "      <td>$799</td>\n",
              "      <td>$769.31</td>\n",
              "    </tr>\n",
              "    <tr>\n",
              "      <th>1</th>\n",
              "      <td>09/24/2021</td>\n",
              "      <td>$774.39</td>\n",
              "      <td>21373020</td>\n",
              "      <td>$745.89</td>\n",
              "      <td>$774.8</td>\n",
              "      <td>$744.56</td>\n",
              "    </tr>\n",
              "    <tr>\n",
              "      <th>2</th>\n",
              "      <td>09/23/2021</td>\n",
              "      <td>$753.64</td>\n",
              "      <td>11947530</td>\n",
              "      <td>$755</td>\n",
              "      <td>$758.2</td>\n",
              "      <td>$747.92</td>\n",
              "    </tr>\n",
              "    <tr>\n",
              "      <th>3</th>\n",
              "      <td>09/22/2021</td>\n",
              "      <td>$751.94</td>\n",
              "      <td>15126270</td>\n",
              "      <td>$743.5263</td>\n",
              "      <td>$753.6699</td>\n",
              "      <td>$739.12</td>\n",
              "    </tr>\n",
              "    <tr>\n",
              "      <th>4</th>\n",
              "      <td>09/21/2021</td>\n",
              "      <td>$739.38</td>\n",
              "      <td>16330720</td>\n",
              "      <td>$734.79</td>\n",
              "      <td>$744.7399</td>\n",
              "      <td>$730.44</td>\n",
              "    </tr>\n",
              "  </tbody>\n",
              "</table>\n",
              "</div>"
            ],
            "text/plain": [
              "         Date Close/Last    Volume       Open       High      Low\n",
              "0  09/27/2021    $791.36  28070660    $773.12       $799  $769.31\n",
              "1  09/24/2021    $774.39  21373020    $745.89     $774.8  $744.56\n",
              "2  09/23/2021    $753.64  11947530       $755     $758.2  $747.92\n",
              "3  09/22/2021    $751.94  15126270  $743.5263  $753.6699  $739.12\n",
              "4  09/21/2021    $739.38  16330720    $734.79  $744.7399  $730.44"
            ]
          },
          "metadata": {},
          "execution_count": 2
        }
      ]
    },
    {
      "cell_type": "code",
      "metadata": {
        "colab": {
          "base_uri": "https://localhost:8080/"
        },
        "id": "wsjBMGjRBzGZ",
        "outputId": "666c3a39-eb51-480c-93b7-a1a75d8876ac"
      },
      "source": [
        "df.info"
      ],
      "execution_count": 3,
      "outputs": [
        {
          "output_type": "execute_result",
          "data": {
            "text/plain": [
              "<bound method DataFrame.info of            Date Close/Last    Volume       Open       High      Low\n",
              "0    09/27/2021    $791.36  28070660    $773.12       $799  $769.31\n",
              "1    09/24/2021    $774.39  21373020    $745.89     $774.8  $744.56\n",
              "2    09/23/2021    $753.64  11947530       $755     $758.2  $747.92\n",
              "3    09/22/2021    $751.94  15126270  $743.5263  $753.6699  $739.12\n",
              "4    09/21/2021    $739.38  16330720    $734.79  $744.7399  $730.44\n",
              "..          ...        ...       ...        ...        ...      ...\n",
              "122  04/05/2021    $691.05  41842770    $707.71    $708.16   $684.7\n",
              "123  04/01/2021    $661.75  35298380    $688.37  $692.4203  $659.42\n",
              "124  03/31/2021    $667.93  33337290    $646.62       $672  $641.11\n",
              "125  03/30/2021    $635.62  39432360    $601.75    $637.66  $591.01\n",
              "126  03/29/2021    $611.29  28636990    $615.64    $616.48  $596.02\n",
              "\n",
              "[127 rows x 6 columns]>"
            ]
          },
          "metadata": {},
          "execution_count": 3
        }
      ]
    },
    {
      "cell_type": "code",
      "metadata": {
        "id": "7vK-19BVCMfY"
      },
      "source": [
        "df['Date'] = pd.to_datetime(df['Date'])"
      ],
      "execution_count": 4,
      "outputs": []
    },
    {
      "cell_type": "code",
      "metadata": {
        "id": "967tppq9CMt1"
      },
      "source": [
        "import matplotlib.pyplot as plt\n",
        "%matplotlib inline"
      ],
      "execution_count": 6,
      "outputs": []
    },
    {
      "cell_type": "code",
      "metadata": {
        "colab": {
          "base_uri": "https://localhost:8080/",
          "height": 558
        },
        "id": "4zeRDScXCMwT",
        "outputId": "c1ccf694-4260-4733-b46b-868ffa310a99"
      },
      "source": [
        "plt.figure(figsize=(20,8))\n",
        "plt.plot('Date','Close/Last',data=df)\n",
        "plt.xlabel('Date')\n",
        "plt.ylabel('Close/Last')\n",
        "plt.xticks(rotation=45)"
      ],
      "execution_count": 8,
      "outputs": [
        {
          "output_type": "execute_result",
          "data": {
            "text/plain": [
              "(array([737881., 737911., 737942., 737972., 738003., 738034., 738064.]),\n",
              " <a list of 7 Text major ticklabel objects>)"
            ]
          },
          "metadata": {},
          "execution_count": 8
        },
        {
          "output_type": "display_data",
          "data": {
            "image/png": "[encoded data removed]",
            "text/plain": [
              "<Figure size 1440x576 with 1 Axes>"
            ]
          },
          "metadata": {
            "needs_background": "light"
          }
        }
      ]
    },
    {
      "cell_type": "code",
      "metadata": {
        "colab": {
          "base_uri": "https://localhost:8080/",
          "height": 206
        },
        "id": "D0ImY7nACMzO",
        "outputId": "a4cd5e27-e387-498c-bd9d-6e731982e34c"
      },
      "source": [
        "df['Daily Lag'] = df['Close/Last'].shift(1)\n",
        "df.head()"
      ],
      "execution_count": 9,
      "outputs": [
        {
          "output_type": "execute_result",
          "data": {
            "text/html": [
              "<div>\n",
              "<style scoped>\n",
              "    .dataframe tbody tr th:only-of-type {\n",
              "        vertical-align: middle;\n",
              "    }\n",
              "\n",
              "    .dataframe tbody tr th {\n",
              "        vertical-align: top;\n",
              "    }\n",
              "\n",
              "    .dataframe thead th {\n",
              "        text-align: right;\n",
              "    }\n",
              "</style>\n",
              "<table border=\"1\" class=\"dataframe\">\n",
              "  <thead>\n",
              "    <tr style=\"text-align: right;\">\n",
              "      <th></th>\n",
              "      <th>Date</th>\n",
              "      <th>Close/Last</th>\n",
              "      <th>Volume</th>\n",
              "      <th>Open</th>\n",
              "      <th>High</th>\n",
              "      <th>Low</th>\n",
              "      <th>Daily Lag</th>\n",
              "    </tr>\n",
              "  </thead>\n",
              "  <tbody>\n",
              "    <tr>\n",
              "      <th>0</th>\n",
              "      <td>2021-09-27</td>\n",
              "      <td>$791.36</td>\n",
              "      <td>28070660</td>\n",
              "      <td>$773.12</td>\n",
              "      <td>$799</td>\n",
              "      <td>$769.31</td>\n",
              "      <td>NaN</td>\n",
              "    </tr>\n",
              "    <tr>\n",
              "      <th>1</th>\n",
              "      <td>2021-09-24</td>\n",
              "      <td>$774.39</td>\n",
              "      <td>21373020</td>\n",
              "      <td>$745.89</td>\n",
              "      <td>$774.8</td>\n",
              "      <td>$744.56</td>\n",
              "      <td>$791.36</td>\n",
              "    </tr>\n",
              "    <tr>\n",
              "      <th>2</th>\n",
              "      <td>2021-09-23</td>\n",
              "      <td>$753.64</td>\n",
              "      <td>11947530</td>\n",
              "      <td>$755</td>\n",
              "      <td>$758.2</td>\n",
              "      <td>$747.92</td>\n",
              "      <td>$774.39</td>\n",
              "    </tr>\n",
              "    <tr>\n",
              "      <th>3</th>\n",
              "      <td>2021-09-22</td>\n",
              "      <td>$751.94</td>\n",
              "      <td>15126270</td>\n",
              "      <td>$743.5263</td>\n",
              "      <td>$753.6699</td>\n",
              "      <td>$739.12</td>\n",
              "      <td>$753.64</td>\n",
              "    </tr>\n",
              "    <tr>\n",
              "      <th>4</th>\n",
              "      <td>2021-09-21</td>\n",
              "      <td>$739.38</td>\n",
              "      <td>16330720</td>\n",
              "      <td>$734.79</td>\n",
              "      <td>$744.7399</td>\n",
              "      <td>$730.44</td>\n",
              "      <td>$751.94</td>\n",
              "    </tr>\n",
              "  </tbody>\n",
              "</table>\n",
              "</div>"
            ],
            "text/plain": [
              "        Date Close/Last    Volume       Open       High      Low Daily Lag\n",
              "0 2021-09-27    $791.36  28070660    $773.12       $799  $769.31       NaN\n",
              "1 2021-09-24    $774.39  21373020    $745.89     $774.8  $744.56   $791.36\n",
              "2 2021-09-23    $753.64  11947530       $755     $758.2  $747.92   $774.39\n",
              "3 2021-09-22    $751.94  15126270  $743.5263  $753.6699  $739.12   $753.64\n",
              "4 2021-09-21    $739.38  16330720    $734.79  $744.7399  $730.44   $751.94"
            ]
          },
          "metadata": {},
          "execution_count": 9
        }
      ]
    },
    {
      "cell_type": "code",
      "metadata": {
        "colab": {
          "base_uri": "https://localhost:8080/",
          "height": 206
        },
        "id": "1kK00I4-Quc2",
        "outputId": "ed3a1a78-6b2a-4e84-a6af-fc999f43638f"
      },
      "source": [
        "df['Daily Lag']=  pd.to_numeric(df['Daily Lag'], errors='coerce').fillna(0).astype(float)\n",
        "df['Close/Last']= pd.to_numeric(df['Close/Last'], errors='coerce').fillna(0).astype(float)\n",
        "df['Daily Returns'] = (df['Daily Lag']/df['Close/Last']) -1\n",
        "df.head()"
      ],
      "execution_count": 61,
      "outputs": [
        {
          "output_type": "execute_result",
          "data": {
            "text/html": [
              "<div>\n",
              "<style scoped>\n",
              "    .dataframe tbody tr th:only-of-type {\n",
              "        vertical-align: middle;\n",
              "    }\n",
              "\n",
              "    .dataframe tbody tr th {\n",
              "        vertical-align: top;\n",
              "    }\n",
              "\n",
              "    .dataframe thead th {\n",
              "        text-align: right;\n",
              "    }\n",
              "</style>\n",
              "<table border=\"1\" class=\"dataframe\">\n",
              "  <thead>\n",
              "    <tr style=\"text-align: right;\">\n",
              "      <th></th>\n",
              "      <th>Date</th>\n",
              "      <th>Close/Last</th>\n",
              "      <th>Volume</th>\n",
              "      <th>Open</th>\n",
              "      <th>High</th>\n",
              "      <th>Low</th>\n",
              "      <th>Daily Lag</th>\n",
              "      <th>Daily Returns</th>\n",
              "    </tr>\n",
              "  </thead>\n",
              "  <tbody>\n",
              "    <tr>\n",
              "      <th>0</th>\n",
              "      <td>2021-09-27</td>\n",
              "      <td>791.36</td>\n",
              "      <td>28070660</td>\n",
              "      <td>$773.12</td>\n",
              "      <td>$799</td>\n",
              "      <td>$769.31</td>\n",
              "      <td>0.0</td>\n",
              "      <td>-1.000000</td>\n",
              "    </tr>\n",
              "    <tr>\n",
              "      <th>1</th>\n",
              "      <td>2021-09-24</td>\n",
              "      <td>774.39</td>\n",
              "      <td>21373020</td>\n",
              "      <td>$745.89</td>\n",
              "      <td>$774.8</td>\n",
              "      <td>$744.56</td>\n",
              "      <td>791.0</td>\n",
              "      <td>0.021449</td>\n",
              "    </tr>\n",
              "    <tr>\n",
              "      <th>2</th>\n",
              "      <td>2021-09-23</td>\n",
              "      <td>753.64</td>\n",
              "      <td>11947530</td>\n",
              "      <td>$755</td>\n",
              "      <td>$758.2</td>\n",
              "      <td>$747.92</td>\n",
              "      <td>774.0</td>\n",
              "      <td>0.027016</td>\n",
              "    </tr>\n",
              "    <tr>\n",
              "      <th>3</th>\n",
              "      <td>2021-09-22</td>\n",
              "      <td>751.94</td>\n",
              "      <td>15126270</td>\n",
              "      <td>$743.5263</td>\n",
              "      <td>$753.6699</td>\n",
              "      <td>$739.12</td>\n",
              "      <td>753.0</td>\n",
              "      <td>0.001410</td>\n",
              "    </tr>\n",
              "    <tr>\n",
              "      <th>4</th>\n",
              "      <td>2021-09-21</td>\n",
              "      <td>739.38</td>\n",
              "      <td>16330720</td>\n",
              "      <td>$734.79</td>\n",
              "      <td>$744.7399</td>\n",
              "      <td>$730.44</td>\n",
              "      <td>751.0</td>\n",
              "      <td>0.015716</td>\n",
              "    </tr>\n",
              "  </tbody>\n",
              "</table>\n",
              "</div>"
            ],
            "text/plain": [
              "        Date  Close/Last    Volume  ...      Low Daily Lag Daily Returns\n",
              "0 2021-09-27      791.36  28070660  ...  $769.31       0.0     -1.000000\n",
              "1 2021-09-24      774.39  21373020  ...  $744.56     791.0      0.021449\n",
              "2 2021-09-23      753.64  11947530  ...  $747.92     774.0      0.027016\n",
              "3 2021-09-22      751.94  15126270  ...  $739.12     753.0      0.001410\n",
              "4 2021-09-21      739.38  16330720  ...  $730.44     751.0      0.015716\n",
              "\n",
              "[5 rows x 8 columns]"
            ]
          },
          "metadata": {},
          "execution_count": 61
        }
      ]
    },
    {
      "cell_type": "code",
      "metadata": {
        "colab": {
          "base_uri": "https://localhost:8080/",
          "height": 282
        },
        "id": "ffOI6uHbTl3q",
        "outputId": "b6f8a5ce-5b2a-4363-f0d9-58c918ccb55f"
      },
      "source": [
        "df['Daily Returns'].hist()"
      ],
      "execution_count": 62,
      "outputs": [
        {
          "output_type": "execute_result",
          "data": {
            "text/plain": [
              "<matplotlib.axes._subplots.AxesSubplot at 0x7f4da29e8c90>"
            ]
          },
          "metadata": {},
          "execution_count": 62
        },
        {
          "output_type": "display_data",
          "data": {
            "image/png": "[encoded data removed]",
            "text/plain": [
              "<Figure size 432x288 with 1 Axes>"
            ]
          },
          "metadata": {
            "needs_background": "light"
          }
        }
      ]
    },
    {
      "cell_type": "code",
      "metadata": {
        "colab": {
          "base_uri": "https://localhost:8080/"
        },
        "id": "Vph-OCVZTz5k",
        "outputId": "d27d1d09-1f91-4f5f-c934-3577b8e692f6"
      },
      "source": [
        "mean = df['Daily Returns'].mean()\n",
        "std = df['Daily Returns'].std()\n",
        "print('mean =',mean)\n",
        "print('Std deviation =',std)"
      ],
      "execution_count": 63,
      "outputs": [
        {
          "output_type": "stream",
          "name": "stdout",
          "text": [
            "mean = -0.0063741426160408236\n",
            "Std deviation = 0.09230950918251084\n"
          ]
        }
      ]
    },
    {
      "cell_type": "code",
      "metadata": {
        "colab": {
          "base_uri": "https://localhost:8080/",
          "height": 282
        },
        "id": "gw_9JllET9dv",
        "outputId": "6a191608-024b-4dfa-eb61-c08d57d37d9c"
      },
      "source": [
        "df['Daily Returns'].hist(bins=20)\n",
        "plt.axvline(mean,color='red',linestyle='dashed',linewidth=2)\n",
        "#to plot the std line we plot both the positive and negative values \n",
        "plt.axvline(std,color='g',linestyle='dashed',linewidth=2)\n",
        "plt.axvline(-std,color='g',linestyle='dashed',linewidth=2)"
      ],
      "execution_count": 64,
      "outputs": [
        {
          "output_type": "execute_result",
          "data": {
            "text/plain": [
              "<matplotlib.lines.Line2D at 0x7f4da28a9ed0>"
            ]
          },
          "metadata": {},
          "execution_count": 64
        },
        {
          "output_type": "display_data",
          "data": {
            "image/png": "[encoded data removed]",
            "text/plain": [
              "<Figure size 432x288 with 1 Axes>"
            ]
          },
          "metadata": {
            "needs_background": "light"
          }
        }
      ]
    },
    {
      "cell_type": "code",
      "metadata": {
        "colab": {
          "base_uri": "https://localhost:8080/"
        },
        "id": "UQ3cY3gvUQEH",
        "outputId": "f3335175-cbdd-4429-d64d-dd7dcb80f07d"
      },
      "source": [
        "df['Daily Returns'].kurtosis()"
      ],
      "execution_count": 66,
      "outputs": [
        {
          "output_type": "execute_result",
          "data": {
            "text/plain": [
              "108.69281096951656"
            ]
          },
          "metadata": {},
          "execution_count": 66
        }
      ]
    },
    {
      "cell_type": "code",
      "metadata": {
        "id": "xVlQxt1LUoip"
      },
      "source": [
        "#the value is positive, so this indicates that the chance of ‘extreme’ values are rare. "
      ],
      "execution_count": null,
      "outputs": []
    }
  ]
}